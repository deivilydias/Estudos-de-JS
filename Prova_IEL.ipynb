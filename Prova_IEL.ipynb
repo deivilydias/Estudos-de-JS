{
  "nbformat": 4,
  "nbformat_minor": 0,
  "metadata": {
    "colab": {
      "name": "Prova IEL.ipynb",
      "provenance": [],
      "collapsed_sections": [],
      "mount_file_id": "11SDN1z0lPuyZWBH3W2Oiewu-XT_HfKMT",
      "authorship_tag": "ABX9TyOYc+KDrXxx/abV3g3Au41s",
      "include_colab_link": true
    },
    "kernelspec": {
      "name": "python3",
      "display_name": "Python 3"
    },
    "language_info": {
      "name": "python"
    }
  },
  "cells": [
    {
      "cell_type": "markdown",
      "metadata": {
        "id": "view-in-github",
        "colab_type": "text"
      },
      "source": [
        "<a href=\"https://colab.research.google.com/github/deivilydias/Estudos-de-JS/blob/main/Prova_IEL.ipynb\" target=\"_parent\"><img src=\"https://colab.research.google.com/assets/colab-badge.svg\" alt=\"Open In Colab\"/></a>"
      ]
    },
    {
      "cell_type": "code",
      "execution_count": null,
      "metadata": {
        "id": "KtQgu5c4lIAg"
      },
      "outputs": [],
      "source": [
        "import pandas as pd\n",
        "import matplotlib.pyplot as plt"
      ]
    },
    {
      "cell_type": "code",
      "source": [
        "prod_setor = pd.read_excel (\"/content/drive/MyDrive/Prova IEL/dim_cnae_sh4_case.xlsx\")\n",
        "display (prod_setor)"
      ],
      "metadata": {
        "colab": {
          "base_uri": "https://localhost:8080/",
          "height": 424
        },
        "id": "VP_14F5clPoe",
        "outputId": "bab83dfd-2d02-4e22-cff2-243f16eefdc0"
      },
      "execution_count": null,
      "outputs": [
        {
          "output_type": "display_data",
          "data": {
            "text/plain": [
              "      cd_sh4            produto   setor_economico\n",
              "0        101            Equinos      Agropecuária\n",
              "1        102            Bovinos      Agropecuária\n",
              "2        103             Suínos      Agropecuária\n",
              "3        104  Ovinos e Caprinos      Agropecuária\n",
              "4        105               Aves      Agropecuária\n",
              "...      ...                ...               ...\n",
              "1263    9995   Não classificado  Não classificado\n",
              "1264    9996   Não classificado  Não classificado\n",
              "1265    9997   Não classificado  Não classificado\n",
              "1266    9998   Não classificado  Não classificado\n",
              "1267    9999      Indeterminado  Não classificado\n",
              "\n",
              "[1268 rows x 3 columns]"
            ],
            "text/html": [
              "\n",
              "  <div id=\"df-5f816bbb-b06e-430b-9eb5-18aaf21e44c2\">\n",
              "    <div class=\"colab-df-container\">\n",
              "      <div>\n",
              "<style scoped>\n",
              "    .dataframe tbody tr th:only-of-type {\n",
              "        vertical-align: middle;\n",
              "    }\n",
              "\n",
              "    .dataframe tbody tr th {\n",
              "        vertical-align: top;\n",
              "    }\n",
              "\n",
              "    .dataframe thead th {\n",
              "        text-align: right;\n",
              "    }\n",
              "</style>\n",
              "<table border=\"1\" class=\"dataframe\">\n",
              "  <thead>\n",
              "    <tr style=\"text-align: right;\">\n",
              "      <th></th>\n",
              "      <th>cd_sh4</th>\n",
              "      <th>produto</th>\n",
              "      <th>setor_economico</th>\n",
              "    </tr>\n",
              "  </thead>\n",
              "  <tbody>\n",
              "    <tr>\n",
              "      <th>0</th>\n",
              "      <td>101</td>\n",
              "      <td>Equinos</td>\n",
              "      <td>Agropecuária</td>\n",
              "    </tr>\n",
              "    <tr>\n",
              "      <th>1</th>\n",
              "      <td>102</td>\n",
              "      <td>Bovinos</td>\n",
              "      <td>Agropecuária</td>\n",
              "    </tr>\n",
              "    <tr>\n",
              "      <th>2</th>\n",
              "      <td>103</td>\n",
              "      <td>Suínos</td>\n",
              "      <td>Agropecuária</td>\n",
              "    </tr>\n",
              "    <tr>\n",
              "      <th>3</th>\n",
              "      <td>104</td>\n",
              "      <td>Ovinos e Caprinos</td>\n",
              "      <td>Agropecuária</td>\n",
              "    </tr>\n",
              "    <tr>\n",
              "      <th>4</th>\n",
              "      <td>105</td>\n",
              "      <td>Aves</td>\n",
              "      <td>Agropecuária</td>\n",
              "    </tr>\n",
              "    <tr>\n",
              "      <th>...</th>\n",
              "      <td>...</td>\n",
              "      <td>...</td>\n",
              "      <td>...</td>\n",
              "    </tr>\n",
              "    <tr>\n",
              "      <th>1263</th>\n",
              "      <td>9995</td>\n",
              "      <td>Não classificado</td>\n",
              "      <td>Não classificado</td>\n",
              "    </tr>\n",
              "    <tr>\n",
              "      <th>1264</th>\n",
              "      <td>9996</td>\n",
              "      <td>Não classificado</td>\n",
              "      <td>Não classificado</td>\n",
              "    </tr>\n",
              "    <tr>\n",
              "      <th>1265</th>\n",
              "      <td>9997</td>\n",
              "      <td>Não classificado</td>\n",
              "      <td>Não classificado</td>\n",
              "    </tr>\n",
              "    <tr>\n",
              "      <th>1266</th>\n",
              "      <td>9998</td>\n",
              "      <td>Não classificado</td>\n",
              "      <td>Não classificado</td>\n",
              "    </tr>\n",
              "    <tr>\n",
              "      <th>1267</th>\n",
              "      <td>9999</td>\n",
              "      <td>Indeterminado</td>\n",
              "      <td>Não classificado</td>\n",
              "    </tr>\n",
              "  </tbody>\n",
              "</table>\n",
              "<p>1268 rows × 3 columns</p>\n",
              "</div>\n",
              "      <button class=\"colab-df-convert\" onclick=\"convertToInteractive('df-5f816bbb-b06e-430b-9eb5-18aaf21e44c2')\"\n",
              "              title=\"Convert this dataframe to an interactive table.\"\n",
              "              style=\"display:none;\">\n",
              "        \n",
              "  <svg xmlns=\"http://www.w3.org/2000/svg\" height=\"24px\"viewBox=\"0 0 24 24\"\n",
              "       width=\"24px\">\n",
              "    <path d=\"M0 0h24v24H0V0z\" fill=\"none\"/>\n",
              "    <path d=\"M18.56 5.44l.94 2.06.94-2.06 2.06-.94-2.06-.94-.94-2.06-.94 2.06-2.06.94zm-11 1L8.5 8.5l.94-2.06 2.06-.94-2.06-.94L8.5 2.5l-.94 2.06-2.06.94zm10 10l.94 2.06.94-2.06 2.06-.94-2.06-.94-.94-2.06-.94 2.06-2.06.94z\"/><path d=\"M17.41 7.96l-1.37-1.37c-.4-.4-.92-.59-1.43-.59-.52 0-1.04.2-1.43.59L10.3 9.45l-7.72 7.72c-.78.78-.78 2.05 0 2.83L4 21.41c.39.39.9.59 1.41.59.51 0 1.02-.2 1.41-.59l7.78-7.78 2.81-2.81c.8-.78.8-2.07 0-2.86zM5.41 20L4 18.59l7.72-7.72 1.47 1.35L5.41 20z\"/>\n",
              "  </svg>\n",
              "      </button>\n",
              "      \n",
              "  <style>\n",
              "    .colab-df-container {\n",
              "      display:flex;\n",
              "      flex-wrap:wrap;\n",
              "      gap: 12px;\n",
              "    }\n",
              "\n",
              "    .colab-df-convert {\n",
              "      background-color: #E8F0FE;\n",
              "      border: none;\n",
              "      border-radius: 50%;\n",
              "      cursor: pointer;\n",
              "      display: none;\n",
              "      fill: #1967D2;\n",
              "      height: 32px;\n",
              "      padding: 0 0 0 0;\n",
              "      width: 32px;\n",
              "    }\n",
              "\n",
              "    .colab-df-convert:hover {\n",
              "      background-color: #E2EBFA;\n",
              "      box-shadow: 0px 1px 2px rgba(60, 64, 67, 0.3), 0px 1px 3px 1px rgba(60, 64, 67, 0.15);\n",
              "      fill: #174EA6;\n",
              "    }\n",
              "\n",
              "    [theme=dark] .colab-df-convert {\n",
              "      background-color: #3B4455;\n",
              "      fill: #D2E3FC;\n",
              "    }\n",
              "\n",
              "    [theme=dark] .colab-df-convert:hover {\n",
              "      background-color: #434B5C;\n",
              "      box-shadow: 0px 1px 3px 1px rgba(0, 0, 0, 0.15);\n",
              "      filter: drop-shadow(0px 1px 2px rgba(0, 0, 0, 0.3));\n",
              "      fill: #FFFFFF;\n",
              "    }\n",
              "  </style>\n",
              "\n",
              "      <script>\n",
              "        const buttonEl =\n",
              "          document.querySelector('#df-5f816bbb-b06e-430b-9eb5-18aaf21e44c2 button.colab-df-convert');\n",
              "        buttonEl.style.display =\n",
              "          google.colab.kernel.accessAllowed ? 'block' : 'none';\n",
              "\n",
              "        async function convertToInteractive(key) {\n",
              "          const element = document.querySelector('#df-5f816bbb-b06e-430b-9eb5-18aaf21e44c2');\n",
              "          const dataTable =\n",
              "            await google.colab.kernel.invokeFunction('convertToInteractive',\n",
              "                                                     [key], {});\n",
              "          if (!dataTable) return;\n",
              "\n",
              "          const docLinkHtml = 'Like what you see? Visit the ' +\n",
              "            '<a target=\"_blank\" href=https://colab.research.google.com/notebooks/data_table.ipynb>data table notebook</a>'\n",
              "            + ' to learn more about interactive tables.';\n",
              "          element.innerHTML = '';\n",
              "          dataTable['output_type'] = 'display_data';\n",
              "          await google.colab.output.renderOutput(dataTable, element);\n",
              "          const docLink = document.createElement('div');\n",
              "          docLink.innerHTML = docLinkHtml;\n",
              "          element.appendChild(docLink);\n",
              "        }\n",
              "      </script>\n",
              "    </div>\n",
              "  </div>\n",
              "  "
            ]
          },
          "metadata": {}
        }
      ]
    },
    {
      "cell_type": "code",
      "source": [
        "vendas = pd.read_excel(\"/content/drive/MyDrive/Prova IEL/comex_mun_sc.xlsx\")"
      ],
      "metadata": {
        "id": "8xbR2f-amnHj"
      },
      "execution_count": 84,
      "outputs": []
    },
    {
      "cell_type": "code",
      "source": [
        "pais = pd.read_excel (\"/content/drive/MyDrive/Prova IEL/dim_pais.xlsx\")"
      ],
      "metadata": {
        "id": "1pEh2U82nPDk"
      },
      "execution_count": 83,
      "outputs": []
    },
    {
      "cell_type": "code",
      "source": [
        "municipios = pd.read_excel (\"/content/drive/MyDrive/Prova IEL/dim_mun_BR_case.xlsx\")"
      ],
      "metadata": {
        "id": "SEwz_9XZnc0O"
      },
      "execution_count": 82,
      "outputs": []
    },
    {
      "cell_type": "code",
      "source": [
        "por_municipios = pd.merge(vendas, municipios, on=\"cd_mun\", how=\"left\")"
      ],
      "metadata": {
        "id": "2KxoemG2oAVF"
      },
      "execution_count": 80,
      "outputs": []
    },
    {
      "cell_type": "code",
      "source": [
        "por_pais = pd.merge(vendas, pais, on=\"cd_pais\", how=\"left\" )"
      ],
      "metadata": {
        "id": "9XZL1xAdpmOE"
      },
      "execution_count": 79,
      "outputs": []
    },
    {
      "cell_type": "code",
      "source": [
        "por_pais ['nm_pais'].value_counts()"
      ],
      "metadata": {
        "id": "Q_xO218op9n7",
        "colab": {
          "base_uri": "https://localhost:8080/"
        },
        "outputId": "ab440d1a-998f-442c-b800-3828c23dd471"
      },
      "execution_count": 78,
      "outputs": [
        {
          "output_type": "execute_result",
          "data": {
            "text/plain": [
              "China                       66719\n",
              "Estados Unidos              29910\n",
              "Alemanha                    23668\n",
              "Paraguai                    17198\n",
              "Itália                      17110\n",
              "                            ...  \n",
              "Nauru                           1\n",
              "São Pedro e Miquelon            1\n",
              "Cook, Ilhas                     1\n",
              "Marianas do Norte, Ilhas        1\n",
              "Palau                           1\n",
              "Name: nm_pais, Length: 222, dtype: int64"
            ]
          },
          "metadata": {},
          "execution_count": 78
        }
      ]
    },
    {
      "cell_type": "code",
      "source": [
        "por_municipios [\"nm_mun\"].value_counts()"
      ],
      "metadata": {
        "id": "LWImSSPHsy63",
        "colab": {
          "base_uri": "https://localhost:8080/"
        },
        "outputId": "15d38930-afc7-4c9d-8bac-303e9f3b1200"
      },
      "execution_count": 77,
      "outputs": [
        {
          "output_type": "execute_result",
          "data": {
            "text/plain": [
              "Itajaí                  73182\n",
              "Joinville               47446\n",
              "Jaraguá do Sul          29811\n",
              "Blumenau                21760\n",
              "São Francisco do Sul    17883\n",
              "                        ...  \n",
              "Morro Grande                1\n",
              "Paraíso                     1\n",
              "Tunápolis                   1\n",
              "Frei Rogério                1\n",
              "Urupema                     1\n",
              "Name: nm_mun, Length: 233, dtype: int64"
            ]
          },
          "metadata": {},
          "execution_count": 77
        }
      ]
    },
    {
      "cell_type": "code",
      "source": [
        "por_atividade = pd.merge(vendas, prod_setor, on=\"cd_sh4\", how=\"left\")"
      ],
      "metadata": {
        "id": "MowS26nSuMjQ"
      },
      "execution_count": 85,
      "outputs": []
    },
    {
      "cell_type": "code",
      "source": [
        "por_atividade [\"produto\"].value_counts()"
      ],
      "metadata": {
        "id": "YQFX20l3vtKh",
        "colab": {
          "base_uri": "https://localhost:8080/"
        },
        "outputId": "a23e9e46-27ca-419f-b5df-5c290bad09c0"
      },
      "execution_count": 86,
      "outputs": [
        {
          "output_type": "execute_result",
          "data": {
            "text/plain": [
              "Outros aparelhos para conexão de circuitos elétricos    6620\n",
              "Outros produtos de plástico                             6532\n",
              "Parafusos de ferro                                      5925\n",
              "Outros produtos de borracha                             5492\n",
              "Veios de transmissão                                    4592\n",
              "                                                        ... \n",
              "Fios de pêlos finos, para venda a retalhos                 1\n",
              "Tijolos                                                    1\n",
              "Mechas de materia têxtil                                   1\n",
              "Aeronaves sem motor                                        1\n",
              "Platina                                                    1\n",
              "Name: produto, Length: 1111, dtype: int64"
            ]
          },
          "metadata": {},
          "execution_count": 86
        }
      ]
    },
    {
      "cell_type": "code",
      "source": [
        "por_municipio_e_pais = pd.merge (por_pais, por_municipios)"
      ],
      "metadata": {
        "id": "04pLz39PwlG3"
      },
      "execution_count": 91,
      "outputs": []
    },
    {
      "cell_type": "code",
      "source": [
        "por_municipio_e_pais [\"nm_pais\"].value_counts()"
      ],
      "metadata": {
        "id": "6ORpgZxqxtPL",
        "colab": {
          "base_uri": "https://localhost:8080/"
        },
        "outputId": "5ea67f5a-f943-48df-db90-9d4be9ce34ed"
      },
      "execution_count": 92,
      "outputs": [
        {
          "output_type": "execute_result",
          "data": {
            "text/plain": [
              "China                       66719\n",
              "Estados Unidos              29910\n",
              "Alemanha                    23668\n",
              "Paraguai                    17198\n",
              "Itália                      17110\n",
              "                            ...  \n",
              "Nauru                           1\n",
              "São Pedro e Miquelon            1\n",
              "Cook, Ilhas                     1\n",
              "Marianas do Norte, Ilhas        1\n",
              "Palau                           1\n",
              "Name: nm_pais, Length: 222, dtype: int64"
            ]
          },
          "metadata": {},
          "execution_count": 92
        }
      ]
    },
    {
      "cell_type": "code",
      "source": [
        "prod_setor.plot (kind=\"bar\")"
      ],
      "metadata": {
        "id": "93yi-qPh0xH1",
        "colab": {
          "base_uri": "https://localhost:8080/",
          "height": 298
        },
        "outputId": "4970ee03-cfb5-430b-e6b2-dd0127c85fb1"
      },
      "execution_count": null,
      "outputs": [
        {
          "output_type": "execute_result",
          "data": {
            "text/plain": [
              "<matplotlib.axes._subplots.AxesSubplot at 0x7f1ea0462f10>"
            ]
          },
          "metadata": {},
          "execution_count": 74
        },
        {
          "output_type": "display_data",
          "data": {
            "text/plain": [
              "<Figure size 432x288 with 1 Axes>"
            ],
            "image/png": "[encoded data removed]"
          },
          "metadata": {
            "needs_background": "light"
          }
        }
      ]
    }
  ]
}